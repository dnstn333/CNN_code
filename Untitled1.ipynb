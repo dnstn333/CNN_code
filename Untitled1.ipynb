{
 "cells": [
  {
   "cell_type": "code",
   "execution_count": 1,
   "metadata": {
    "collapsed": false
   },
   "outputs": [
    {
     "ename": "IndentationError",
     "evalue": "unexpected indent (<ipython-input-1-0210bad4de6b>, line 136)",
     "output_type": "error",
     "traceback": [
      "\u001b[0;36m  File \u001b[0;32m\"<ipython-input-1-0210bad4de6b>\"\u001b[0;36m, line \u001b[0;32m136\u001b[0m\n\u001b[0;31m    if in_label_Dic is not None :\u001b[0m\n\u001b[0m    ^\u001b[0m\n\u001b[0;31mIndentationError\u001b[0m\u001b[0;31m:\u001b[0m unexpected indent\n"
     ]
    }
   ],
   "source": [
    "import numpy as np\n",
    "import random\n",
    "from scipy.ndimage import interpolation as inter\n",
    "\n",
    "# NOTE\n",
    "# Images are assumed to be uint8 0-255 valued.\n",
    "# For augment function:\n",
    "#   images shape: (batch_size, height, width, channels=3)\n",
    "#   labels shape: (batch_size, 3)\n",
    "\n",
    "def shift(image1, image2, rate_x=0.01, rate_y=0.05):\n",
    "    new_img1 = np.copy(image1)\n",
    "    new_img2 = np.copy(image2)\n",
    "    \n",
    "    shape = new_img1.shape\n",
    "    if shape[0] != new_img2.shape[0] :\n",
    "        print(\"augment ERR!! : Diff Shift Size\")\n",
    "    elif shape[1] != new_img2.shape[1] :\n",
    "        print(\"augment ERR!! : Diff Shift Size\")\n",
    "    \n",
    "    max_x = int(shape[0] * rate_x)\n",
    "    max_y = int(shape[1] * rate_y)\n",
    "    print(max_x, max_y)\n",
    "    x = np.random.randint(low=-max_x, high=max_x)\n",
    "    y = np.random.randint(low=-max_y, high=max_y)\n",
    "    new_img1 = inter.shift(new_img1,shift=[x,y,0], mode='nearest')\n",
    "    new_img2 = inter.shift(new_img2,shift=[x,y,0], mode='nearest')\n",
    "    \n",
    "    return new_img1, new_img2\n",
    "\n",
    "def rotate_180(image1, image2):\n",
    "    randnum = random.getrandbits(1) * 2\n",
    "    new_image1 = np.copy(image1)\n",
    "    new_image2 = np.copy(image2)\n",
    "    return np.rot90(new_image1,randnum), np.rot90(new_image2,randnum)\n",
    "\n",
    "#randomly manipulates image\n",
    "#rotate, flip along axis, add blotch, shift\n",
    "def augment(images1, images2, labels=None, amplify=2):\n",
    "    # INPUT:\n",
    "    #images shape: (batch_size, height, width, channels=3)\n",
    "    #labels shape: (batch_size, 3)\n",
    "    ops = [\n",
    "        shift,\n",
    "        rotate_180\n",
    "    ]\n",
    "    \n",
    "\n",
    "    shape1 = images1.shape\n",
    "    shape2 = images2.shape\n",
    "    if shape1[0] != shape2[0] :\n",
    "        print(\"augment ERR!! : Diff Batch Size\")\n",
    "    new_images1 = np.zeros(((amplify*shape1[0]), shape1[1], shape1[2], shape1[3]))\n",
    "    new_images2 = np.zeros(((amplify*shape2[0]), shape2[1], shape2[2], shape2[3]))\n",
    "    if labels is not None:\n",
    "        new_labels = np.zeros(amplify*shape1[0])\n",
    "    for i in range(shape1[0]):\n",
    "        cur_img1 = np.copy(images1[i])\n",
    "        cur_img2 = np.copy(images2[i])\n",
    "        new_images1[i] = cur_img1\n",
    "        new_images2[i] = cur_img2\n",
    "        if labels is not None:\n",
    "            new_labels[i] = labels[i]\n",
    "        for j in range(1, amplify):\n",
    "            add_r = ( j * shape1[0] )\n",
    "            tmp_img1 = np.copy(cur_img1)\n",
    "            tmp_img2 = np.copy(cur_img2)\n",
    "            for each_op in ops :\n",
    "                tmp_img1, tmp_img2 = each_op(tmp_img1, tmp_img2)\n",
    "            new_images1[i+add_r] = tmp_img1\n",
    "            new_images2[i+add_r] = tmp_img2\n",
    "            if labels is not None:\n",
    "                new_labels[i+add_r] = labels[i]\n",
    "    if labels is not None:\n",
    "            return new_images1, new_images2, new_labels.astype(np.uint8).astype(np.str_)\n",
    "    else:\n",
    "        return new_images1, new_images2\n",
    "    \n",
    "def banknoteAugment(in_image_Dic, in_label_Dic=None, batch_size=10, ample_size=10) :\n",
    "    ### Start about Image Data Augmented ###\n",
    "    x_trainAugm = {}\n",
    "    y_trainAugm = {}\n",
    "    out_image_Dic = {}\n",
    "    out_label_Dic = {}\n",
    "\n",
    "    for tmp_type in typeName_list:\n",
    "        x_trainAugm[tmp_type] = np.empty((0,) + np.array(in_image_Dic[tmp_type]).shape[1:])\n",
    "        if in_label_Dic is not None :\n",
    "            y_trainAugm[tmp_type] = np.empty((0,) + np.array(in_label_Dic[tmp_type]).shape[1:])\n",
    "\n",
    "    n = batch_size \n",
    "    ample_size = 10\n",
    "    for i in range(0, train_size, n):\n",
    "        #cut up train set\n",
    "        x1_augm = np.array(in_image_Dic[typeName_list[0]])[i:i+n]\n",
    "        x2_augm = np.array(in_image_Dic[typeName_list[1]])[i:i+n]\n",
    "        if in_label_Dic is not None :\n",
    "            y_augm  = np.array(in_label_Dic[typeName_list[0]])[i:i+n]\n",
    "            \n",
    "        # call augment func\n",
    "        if in_label_Dic is not None :\n",
    "            x1_augm, x2_augm, y_augm = augment(images1=x1_augm, images2=x2_augm, labels=y_augm, amplify=ample_size)\n",
    "        else :\n",
    "            x1_augm, x2_augm = augment(images1=x1_augm, images2=x2_augm, amplify=ample_size)\n",
    "            \n",
    "        #sum each epohc\n",
    "        x_trainAugm[typeName_list[0]] = np.concatenate((x_trainAugm[typeName_list[0]], x1_augm))\n",
    "        x_trainAugm[typeName_list[1]] = np.concatenate((x_trainAugm[typeName_list[1]], x2_augm))\n",
    "        if in_label_Dic is not None :\n",
    "            y_trainAugm[typeName_list[0]] = np.concatenate((y_trainAugm[typeName_list[0]], y_augm))\n",
    "            y_trainAugm[typeName_list[1]] = np.concatenate((y_trainAugm[typeName_list[1]], y_augm))\n",
    "        \"\"\"if i == 0 :\n",
    "            print(label_Dic[typeName_list[0]])\n",
    "            print(y_trainAugm[typeName_list[0]])\n",
    "            print(y_augm)\"\"\"\n",
    "        if (i + 1)%100 == 0:\n",
    "            print()\n",
    "            print(str(i)+' :',end=' ')\n",
    "        else:\n",
    "            print('.',end='')\n",
    "\n",
    "        if i > 500:\n",
    "            break\n",
    "    print()   \n",
    "    \n",
    "    #make new data list [ new = train(augm) + test(old) ]\n",
    "    for tmp_type in typeName_list:\n",
    "        out_image_Dic[tmp_type] = list(np.concatenate((x_trainAugm[tmp_type], np.array(in_image_Dic[tmp_type])[:train_size])))\n",
    "        if in_label_Dic is not None :\n",
    "            out_label_Dic[tmp_type] = list(np.concatenate((y_trainAugm[tmp_type], np.array(in_label_Dic[tmp_type])[:train_size])))\n",
    "\"\"\"        print(x_trainAugm[tmp_type].shape)\n",
    "        print(y_trainAugm[tmp_type])\n",
    "        print(np.array(image_Dic[tmp_type]).shape)\n",
    "        print(np.array(label_Dic[tmp_type]))\"\"\"\n",
    "\n",
    "    if in_label_Dic is not None :\n",
    "        return out_image_Dic, out_label_Dic\n",
    "    return out_image_Dic"
   ]
  },
  {
   "cell_type": "code",
   "execution_count": 1,
   "metadata": {
    "collapsed": false
   },
   "outputs": [],
   "source": [
    "a = [[1, 2],[3, 4], [5, 6]]"
   ]
  },
  {
   "cell_type": "code",
   "execution_count": 2,
   "metadata": {
    "collapsed": true
   },
   "outputs": [],
   "source": [
    "a = [a,a,a,a]\n",
    "a = [a,a,a,a,a]"
   ]
  },
  {
   "cell_type": "code",
   "execution_count": 5,
   "metadata": {
    "collapsed": false
   },
   "outputs": [
    {
     "name": "stdout",
     "output_type": "stream",
     "text": [
      "3\n"
     ]
    }
   ],
   "source": [
    "print(len(a[0][0]))"
   ]
  },
  {
   "cell_type": "code",
   "execution_count": 5,
   "metadata": {
    "collapsed": false
   },
   "outputs": [
    {
     "name": "stdout",
     "output_type": "stream",
     "text": [
      "(5, 4, 3, 2)\n"
     ]
    }
   ],
   "source": [
    "a = np.array(a)\n",
    "print(a.shape)\n",
    "a = a.astype(np.float32) / 255."
   ]
  },
  {
   "cell_type": "code",
   "execution_count": 6,
   "metadata": {
    "collapsed": false
   },
   "outputs": [
    {
     "name": "stdout",
     "output_type": "stream",
     "text": [
      "(5,)\n"
     ]
    }
   ],
   "source": [
    "la = ['0', '1', '0', '1', '0']\n",
    "la = np.array(la)\n",
    "print(la.shape)"
   ]
  },
  {
   "cell_type": "code",
   "execution_count": 9,
   "metadata": {
    "collapsed": false,
    "scrolled": true
   },
   "outputs": [
    {
     "name": "stdout",
     "output_type": "stream",
     "text": [
      "[ 0.00392157  0.00784314][ 0.01176471  0.01568628][ 0.01960784  0.02352941]\n",
      "[ 0.00392157  0.00784314][ 0.01176471  0.01568628][ 0.01960784  0.02352941]\n",
      "[ 0.00392157  0.00784314][ 0.01176471  0.01568628][ 0.01960784  0.02352941]\n",
      "[ 0.00392157  0.00784314][ 0.01176471  0.01568628][ 0.01960784  0.02352941]\n",
      "\n",
      "[ 0.00392157  0.00784314][ 0.01176471  0.01568628][ 0.01960784  0.02352941]\n",
      "[ 0.00392157  0.00784314][ 0.01176471  0.01568628][ 0.01960784  0.02352941]\n",
      "[ 0.00392157  0.00784314][ 0.01176471  0.01568628][ 0.01960784  0.02352941]\n",
      "[ 0.00392157  0.00784314][ 0.01176471  0.01568628][ 0.01960784  0.02352941]\n",
      "\n",
      "[ 0.00392157  0.00784314][ 0.01176471  0.01568628][ 0.01960784  0.02352941]\n",
      "[ 0.00392157  0.00784314][ 0.01176471  0.01568628][ 0.01960784  0.02352941]\n",
      "[ 0.00392157  0.00784314][ 0.01176471  0.01568628][ 0.01960784  0.02352941]\n",
      "[ 0.00392157  0.00784314][ 0.01176471  0.01568628][ 0.01960784  0.02352941]\n",
      "\n",
      "[ 0.00392157  0.00784314][ 0.01176471  0.01568628][ 0.01960784  0.02352941]\n",
      "[ 0.00392157  0.00784314][ 0.01176471  0.01568628][ 0.01960784  0.02352941]\n",
      "[ 0.00392157  0.00784314][ 0.01176471  0.01568628][ 0.01960784  0.02352941]\n",
      "[ 0.00392157  0.00784314][ 0.01176471  0.01568628][ 0.01960784  0.02352941]\n",
      "\n",
      "[ 0.00392157  0.00784314][ 0.01176471  0.01568628][ 0.01960784  0.02352941]\n",
      "[ 0.00392157  0.00784314][ 0.01176471  0.01568628][ 0.01960784  0.02352941]\n",
      "[ 0.00392157  0.00784314][ 0.01176471  0.01568628][ 0.01960784  0.02352941]\n",
      "[ 0.00392157  0.00784314][ 0.01176471  0.01568628][ 0.01960784  0.02352941]\n",
      "\n",
      "[ 0.00392157  0.00784314][ 0.01176471  0.01568628][ 0.01960784  0.02352941]\n",
      "[ 0.00392157  0.00784314][ 0.01176471  0.01568628][ 0.01960784  0.02352941]\n",
      "[ 0.00392157  0.00784314][ 0.01176471  0.01568628][ 0.01960784  0.02352941]\n",
      "[ 0.00392157  0.00784314][ 0.01176471  0.01568628][ 0.01960784  0.02352941]\n",
      "\n",
      "[ 0.00392157  0.00784314][ 0.01176471  0.01568628][ 0.01960784  0.02352941]\n",
      "[ 0.00392157  0.00784314][ 0.01176471  0.01568628][ 0.01960784  0.02352941]\n",
      "[ 0.00392157  0.00784314][ 0.01176471  0.01568628][ 0.01960784  0.02352941]\n",
      "[ 0.00392157  0.00784314][ 0.01176471  0.01568628][ 0.01960784  0.02352941]\n",
      "\n",
      "[ 0.00392157  0.00784314][ 0.01176471  0.01568628][ 0.01960784  0.02352941]\n",
      "[ 0.00392157  0.00784314][ 0.01176471  0.01568628][ 0.01960784  0.02352941]\n",
      "[ 0.00392157  0.00784314][ 0.01176471  0.01568628][ 0.01960784  0.02352941]\n",
      "[ 0.00392157  0.00784314][ 0.01176471  0.01568628][ 0.01960784  0.02352941]\n",
      "\n",
      "[ 0.00392157  0.00784314][ 0.01176471  0.01568628][ 0.01960784  0.02352941]\n",
      "[ 0.00392157  0.00784314][ 0.01176471  0.01568628][ 0.01960784  0.02352941]\n",
      "[ 0.00392157  0.00784314][ 0.01176471  0.01568628][ 0.01960784  0.02352941]\n",
      "[ 0.00392157  0.00784314][ 0.01176471  0.01568628][ 0.01960784  0.02352941]\n",
      "\n",
      "[ 0.00392157  0.00784314][ 0.01176471  0.01568628][ 0.01960784  0.02352941]\n",
      "[ 0.00392157  0.00784314][ 0.01176471  0.01568628][ 0.01960784  0.02352941]\n",
      "[ 0.00392157  0.00784314][ 0.01176471  0.01568628][ 0.01960784  0.02352941]\n",
      "[ 0.00392157  0.00784314][ 0.01176471  0.01568628][ 0.01960784  0.02352941]\n",
      "\n",
      "0 1 0 1 0 0 1 0 1 0 <class 'numpy.str_'>\n",
      "\n",
      "0 1 0 1 0 <class 'numpy.str_'>\n",
      "\n"
     ]
    }
   ],
   "source": [
    "c, d, la2 = augment(images1=a, images2=a, labels=la, amplify=2)\n",
    "\n",
    "for ec, ea in zip(c, a) :\n",
    "    for yc in ec :\n",
    "        for xc in yc :\n",
    "            print(xc, end='')\n",
    "        print()\n",
    "    print()\n",
    "    \n",
    "    for ya in ea :\n",
    "        for xa in ya :\n",
    "            print(xa, end='')\n",
    "        print()\n",
    "    print()\n",
    "    \n",
    "for yl in la2 :\n",
    "    print(yl, end=' ')\n",
    "print(type(la2[0]))\n",
    "print()\n",
    "for yl in la :\n",
    "    print(yl, end=' ')\n",
    "print(type(la[0]))\n",
    "print()\n"
   ]
  }
 ],
 "metadata": {
  "anaconda-cloud": {},
  "kernelspec": {
   "display_name": "Python [conda root]",
   "language": "python",
   "name": "conda-root-py"
  },
  "language_info": {
   "codemirror_mode": {
    "name": "ipython",
    "version": 3
   },
   "file_extension": ".py",
   "mimetype": "text/x-python",
   "name": "python",
   "nbconvert_exporter": "python",
   "pygments_lexer": "ipython3",
   "version": "3.5.2"
  }
 },
 "nbformat": 4,
 "nbformat_minor": 1
}

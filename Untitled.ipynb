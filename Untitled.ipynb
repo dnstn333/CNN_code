{
 "cells": [
  {
   "cell_type": "code",
   "execution_count": 1,
   "metadata": {
    "collapsed": true
   },
   "outputs": [],
   "source": [
    "import numpy as np"
   ]
  },
  {
   "cell_type": "code",
   "execution_count": 1,
   "metadata": {
    "collapsed": false
   },
   "outputs": [
    {
     "name": "stdout",
     "output_type": "stream",
     "text": [
      "0\n"
     ]
    }
   ],
   "source": [
    "a= int(0.7)\n",
    "print(a)"
   ]
  },
  {
   "cell_type": "code",
   "execution_count": 2,
   "metadata": {
    "collapsed": false
   },
   "outputs": [
    {
     "name": "stdout",
     "output_type": "stream",
     "text": [
      "[[1 2 3]\n",
      " [4 5 6]]\n"
     ]
    }
   ],
   "source": [
    "a = np.array([[1, 2, 3],[4,5,6]])\n",
    "print(a)"
   ]
  },
  {
   "cell_type": "code",
   "execution_count": 12,
   "metadata": {
    "collapsed": true
   },
   "outputs": [],
   "source": [
    "dic = {}\n",
    "nstr = \"hello\"\n",
    "num = 1\n",
    "dic[nstr + str(num)] = a"
   ]
  },
  {
   "cell_type": "code",
   "execution_count": 14,
   "metadata": {
    "collapsed": false
   },
   "outputs": [
    {
     "name": "stdout",
     "output_type": "stream",
     "text": [
      "[[1 2 3]\n",
      " [4 5 6]]\n"
     ]
    }
   ],
   "source": [
    "print(dic[nstr + str(num)])"
   ]
  },
  {
   "cell_type": "code",
   "execution_count": 3,
   "metadata": {
    "collapsed": false
   },
   "outputs": [
    {
     "name": "stdout",
     "output_type": "stream",
     "text": [
      "[[1 1 1]\n",
      " [2 2 2]]\n"
     ]
    }
   ],
   "source": [
    "b = np.array([[1, 1, 1],[2,2,2]])\n",
    "print(b)"
   ]
  },
  {
   "cell_type": "code",
   "execution_count": 4,
   "metadata": {
    "collapsed": false
   },
   "outputs": [
    {
     "name": "stdout",
     "output_type": "stream",
     "text": [
      "[array([[1, 2, 3],\n",
      "       [4, 5, 6]]), array([[1, 1, 1],\n",
      "       [2, 2, 2]])]\n"
     ]
    }
   ],
   "source": [
    "ab_list = []\n",
    "\n",
    "ab_list.append(a)\n",
    "ab_list.append(b)\n",
    "print(ab_list)"
   ]
  },
  {
   "cell_type": "code",
   "execution_count": 5,
   "metadata": {
    "collapsed": false
   },
   "outputs": [
    {
     "name": "stdout",
     "output_type": "stream",
     "text": [
      "[array([[1, 1, 1],\n",
      "       [2, 2, 2]]), array([[1, 1, 1],\n",
      "       [2, 2, 2]])]\n"
     ]
    }
   ],
   "source": [
    "bb_list = []\n",
    "\n",
    "bb_list.append(b)\n",
    "bb_list.append(b)\n",
    "print(bb_list)"
   ]
  },
  {
   "cell_type": "code",
   "execution_count": 6,
   "metadata": {
    "collapsed": false,
    "scrolled": true
   },
   "outputs": [
    {
     "name": "stdout",
     "output_type": "stream",
     "text": [
      "[array([[1, 2, 3],\n",
      "       [4, 5, 6]]), array([[1, 1, 1],\n",
      "       [2, 2, 2]]), array([[1, 1, 1],\n",
      "       [2, 2, 2]]), array([[1, 1, 1],\n",
      "       [2, 2, 2]])]\n"
     ]
    }
   ],
   "source": [
    "ab_list = ab_list + bb_list\n",
    "print(ab_list)"
   ]
  },
  {
   "cell_type": "code",
   "execution_count": 40,
   "metadata": {
    "collapsed": true
   },
   "outputs": [],
   "source": [
    "name_list = [\"11.bmp\", \"12.bmp\"]"
   ]
  },
  {
   "cell_type": "code",
   "execution_count": 41,
   "metadata": {
    "collapsed": false
   },
   "outputs": [
    {
     "data": {
      "text/plain": [
       "1"
      ]
     },
     "execution_count": 41,
     "metadata": {},
     "output_type": "execute_result"
    }
   ],
   "source": [
    "name_list.index(\"12.bmp\")"
   ]
  },
  {
   "cell_type": "code",
   "execution_count": 42,
   "metadata": {
    "collapsed": false
   },
   "outputs": [
    {
     "data": {
      "text/plain": [
       "['11.bmp', '12.bmp', '13.bmp']"
      ]
     },
     "execution_count": 42,
     "metadata": {},
     "output_type": "execute_result"
    }
   ],
   "source": [
    "name_list.append(\"13.bmp\")\n",
    "name_list"
   ]
  },
  {
   "cell_type": "code",
   "execution_count": 50,
   "metadata": {
    "collapsed": false,
    "scrolled": true
   },
   "outputs": [
    {
     "data": {
      "text/plain": [
       "False"
      ]
     },
     "execution_count": 50,
     "metadata": {},
     "output_type": "execute_result"
    }
   ],
   "source": [
    "any(\"11.bmp \" in s for s in name_list)"
   ]
  },
  {
   "cell_type": "code",
   "execution_count": 66,
   "metadata": {
    "collapsed": false
   },
   "outputs": [
    {
     "data": {
      "text/plain": [
       "True"
      ]
     },
     "execution_count": 66,
     "metadata": {},
     "output_type": "execute_result"
    }
   ],
   "source": [
    "not(any(\"11.bmp \" in s for s in name_list))"
   ]
  },
  {
   "cell_type": "code",
   "execution_count": 52,
   "metadata": {
    "collapsed": true
   },
   "outputs": [],
   "source": [
    "import os\n",
    "apath = \"C:\""
   ]
  },
  {
   "cell_type": "code",
   "execution_count": 64,
   "metadata": {
    "collapsed": false
   },
   "outputs": [
    {
     "name": "stdout",
     "output_type": "stream",
     "text": [
      "['C:11.bmp', 'C:12.bmp', 'C:13.bmp']\n"
     ]
    }
   ],
   "source": [
    "for i in range(len(name_list)):\n",
    "    name_list[i] = os.path.join(apath, name_list[i])\n",
    "print(name_list)"
   ]
  },
  {
   "cell_type": "code",
   "execution_count": 65,
   "metadata": {
    "collapsed": false
   },
   "outputs": [
    {
     "data": {
      "text/plain": [
       "'C:'"
      ]
     },
     "execution_count": 65,
     "metadata": {},
     "output_type": "execute_result"
    }
   ],
   "source": [
    "os.path.dirname(name_list[0])"
   ]
  },
  {
   "cell_type": "code",
   "execution_count": 22,
   "metadata": {
    "collapsed": false
   },
   "outputs": [],
   "source": [
    "dic = {'A' : ab_list, 'A' : bb_list}"
   ]
  },
  {
   "cell_type": "code",
   "execution_count": 25,
   "metadata": {
    "collapsed": false
   },
   "outputs": [
    {
     "data": {
      "text/plain": [
       "[array([[1, 1, 1],\n",
       "        [2, 2, 2]]), array([[1, 1, 1],\n",
       "        [2, 2, 2]])]"
      ]
     },
     "execution_count": 25,
     "metadata": {},
     "output_type": "execute_result"
    }
   ],
   "source": [
    "dic['A']"
   ]
  },
  {
   "cell_type": "code",
   "execution_count": 28,
   "metadata": {
    "collapsed": false
   },
   "outputs": [],
   "source": [
    "dic['A'].append(a)"
   ]
  },
  {
   "cell_type": "code",
   "execution_count": 29,
   "metadata": {
    "collapsed": false
   },
   "outputs": [
    {
     "data": {
      "text/plain": [
       "[array([[1, 1, 1],\n",
       "        [2, 2, 2]]), array([[1, 1, 1],\n",
       "        [2, 2, 2]]), array([[1, 2, 3],\n",
       "        [4, 5, 6]]), array([[1, 2, 3],\n",
       "        [4, 5, 6]])]"
      ]
     },
     "execution_count": 29,
     "metadata": {},
     "output_type": "execute_result"
    }
   ],
   "source": [
    "dic['A']"
   ]
  },
  {
   "cell_type": "code",
   "execution_count": 30,
   "metadata": {
    "collapsed": true
   },
   "outputs": [],
   "source": [
    "name = 'A'"
   ]
  },
  {
   "cell_type": "code",
   "execution_count": 31,
   "metadata": {
    "collapsed": false,
    "scrolled": true
   },
   "outputs": [
    {
     "data": {
      "text/plain": [
       "[array([[1, 1, 1],\n",
       "        [2, 2, 2]]), array([[1, 1, 1],\n",
       "        [2, 2, 2]]), array([[1, 2, 3],\n",
       "        [4, 5, 6]]), array([[1, 2, 3],\n",
       "        [4, 5, 6]])]"
      ]
     },
     "execution_count": 31,
     "metadata": {},
     "output_type": "execute_result"
    }
   ],
   "source": [
    "dic[name]"
   ]
  },
  {
   "cell_type": "code",
   "execution_count": 44,
   "metadata": {
    "collapsed": false,
    "scrolled": false
   },
   "outputs": [
    {
     "name": "stdout",
     "output_type": "stream",
     "text": [
      "(2, 3)\n",
      "(2, 3)\n"
     ]
    }
   ],
   "source": [
    "print(np.shape(a))\n",
    "print(np.shape(b))"
   ]
  },
  {
   "cell_type": "code",
   "execution_count": 51,
   "metadata": {
    "collapsed": false
   },
   "outputs": [
    {
     "data": {
      "text/plain": [
       "array([[1, 2, 3],\n",
       "       [4, 5, 6],\n",
       "       [1, 1, 1],\n",
       "       [2, 2, 2]])"
      ]
     },
     "execution_count": 51,
     "metadata": {},
     "output_type": "execute_result"
    }
   ],
   "source": [
    "ab = np.concatenate((a, b), axis = 0)\n",
    "ab"
   ]
  },
  {
   "cell_type": "code",
   "execution_count": 53,
   "metadata": {
    "collapsed": false
   },
   "outputs": [
    {
     "data": {
      "text/plain": [
       "array([[[1, 2, 3],\n",
       "        [4, 5, 6]],\n",
       "\n",
       "       [[1, 1, 1],\n",
       "        [2, 2, 2]]])"
      ]
     },
     "execution_count": 53,
     "metadata": {},
     "output_type": "execute_result"
    }
   ],
   "source": [
    "ab.reshape(2,2,3)"
   ]
  },
  {
   "cell_type": "code",
   "execution_count": 67,
   "metadata": {
    "collapsed": false,
    "scrolled": true
   },
   "outputs": [
    {
     "name": "stdout",
     "output_type": "stream",
     "text": [
      "(28, 28, 3)\n"
     ]
    }
   ],
   "source": [
    "# show error cases\n",
    "import numpy as np\n",
    "import matplotlib.pyplot as plt\n",
    "import matplotlib.image as mpimg\n",
    "\n",
    "out = np.zeros((28, 28, 3))\n",
    "\n",
    "\n",
    "image = mpimg.imread(\"11.bmp\")\n",
    "image2 = mpimg.imread(\"12.bmp\")\n",
    "image3 = mpimg.imread(\"11.bmp\")\n",
    "\n",
    "image = image.astype(np.float32) / 255.\n",
    "image2 = image2.astype(np.float32) / 255.\n",
    "image3 = image3.astype(np.float32) / 255.\n",
    "\n",
    "#이미지 크기 정규화\n",
    "rgb = np.dstack((image,image2))\n",
    "rgb = np.dstack((rgb,image3))\n",
    "print(rgb.shape)\n",
    "\n",
    "mpimg.imsave(\"out.jpg\", rgb)"
   ]
  },
  {
   "cell_type": "code",
   "execution_count": 1,
   "metadata": {
    "collapsed": false
   },
   "outputs": [
    {
     "name": "stdout",
     "output_type": "stream",
     "text": [
      "V-00000001_03909_00000001\n"
     ]
    }
   ],
   "source": [
    "mystr = \"1A-1-V-00000001_03909_00000001\"\n",
    "print(mystr[5:])"
   ]
  },
  {
   "cell_type": "code",
   "execution_count": 3,
   "metadata": {
    "collapsed": false
   },
   "outputs": [
    {
     "name": "stdout",
     "output_type": "stream",
     "text": [
      "V-00000001_03909_0000000\n"
     ]
    }
   ],
   "source": [
    "print(mystr[5:-1])"
   ]
  },
  {
   "cell_type": "code",
   "execution_count": 5,
   "metadata": {
    "collapsed": false
   },
   "outputs": [
    {
     "name": "stdout",
     "output_type": "stream",
     "text": [
      "./logs/weights.best_deepAndHeavy_DataAugm.hdf5\n"
     ]
    }
   ],
   "source": [
    "mystr = './logs/weights.best_deepAndHeavy_DataAugm.hdf5'\n",
    "print(mystr)"
   ]
  },
  {
   "cell_type": "code",
   "execution_count": 6,
   "metadata": {
    "collapsed": false,
    "scrolled": true
   },
   "outputs": [
    {
     "name": "stdout",
     "output_type": "stream",
     "text": [
      "1 : ./logs/weights.best_deepAndHeavy_DataAugm.hdf5.com\n"
     ]
    }
   ],
   "source": [
    "mystr2 = \"1 : \" + mystr + \".com\"\n",
    "print(mystr2)"
   ]
  },
  {
   "cell_type": "code",
   "execution_count": 2,
   "metadata": {
    "collapsed": false
   },
   "outputs": [
    {
     "name": "stdout",
     "output_type": "stream",
     "text": [
      "Hello, TensorFlow!\n"
     ]
    }
   ],
   "source": [
    "from __future__ import print_function\n",
    "\n",
    "# disable tensorflow logging\n",
    "import os\n",
    "os.environ['TF_CPP_MIN_LOG_LEVEL'] = '3'\n",
    "\n",
    "import tensorflow as tf\n",
    "\n",
    "hello = tf.constant('Hello, TensorFlow!')\n",
    "\n",
    "# Start tf session\n",
    "sess = tf.Session()\n",
    "#dir(tf)\n",
    "\n",
    "print(str(sess.run(hello).strip(), 'utf-8'))"
   ]
  },
  {
   "cell_type": "code",
   "execution_count": 5,
   "metadata": {
    "collapsed": false,
    "scrolled": true
   },
   "outputs": [
    {
     "name": "stdout",
     "output_type": "stream",
     "text": [
      "123\\\n",
      "123\\\n",
      "123\n",
      "123\n",
      "123\n",
      "123\n"
     ]
    }
   ],
   "source": [
    "a = []\n",
    "for i in range(3):\n",
    "    a.append(input())\n",
    "    print(a[i])"
   ]
  },
  {
   "cell_type": "code",
   "execution_count": 13,
   "metadata": {
    "collapsed": false
   },
   "outputs": [
    {
     "name": "stdout",
     "output_type": "stream",
     "text": [
      "d\n"
     ]
    }
   ],
   "source": [
    "a = ord('a') + 3\n",
    "print(chr(a))"
   ]
  },
  {
   "cell_type": "code",
   "execution_count": 32,
   "metadata": {
    "collapsed": false
   },
   "outputs": [
    {
     "data": {
      "text/plain": [
       "'P'"
      ]
     },
     "execution_count": 32,
     "metadata": {},
     "output_type": "execute_result"
    }
   ],
   "source": [
    "chr((ord('f') + ord('d')) % ord('z'))"
   ]
  },
  {
   "cell_type": "code",
   "execution_count": 36,
   "metadata": {
    "collapsed": false,
    "scrolled": true
   },
   "outputs": [
    {
     "name": "stdout",
     "output_type": "stream",
     "text": [
      "hellowss\n"
     ]
    }
   ],
   "source": [
    "strs = \"lowsshel\"\n",
    "print(strs[-3:] + strs[:-3])"
   ]
  },
  {
   "cell_type": "code",
   "execution_count": 65,
   "metadata": {
    "collapsed": false
   },
   "outputs": [],
   "source": [
    "upperBound = ord('z')\n",
    "lowerBound = ord('a') - 1\n",
    "\n",
    "def dec(arg1, arg2):\n",
    "    arg1 = ord(arg1) - lowerBound\n",
    "    arg2 = ord(arg2) - lowerBound\n",
    "    \n",
    "    return ((lowerBound + (arg1 - arg2 )) % (upperBound - lowerBound)) + lowerBound"
   ]
  },
  {
   "cell_type": "code",
   "execution_count": 70,
   "metadata": {
    "collapsed": false,
    "scrolled": true
   },
   "outputs": [
    {
     "name": "stdout",
     "output_type": "stream",
     "text": [
      "7 d\n",
      "18 2 122 97\n"
     ]
    }
   ],
   "source": [
    "print((dec('s', 'c')) - ord('a'), chr(dec('e', 's')))\n",
    "print(ord('s') - ord('a'), ord('c') - ord('a'), ord('z'), ord('a'))"
   ]
  },
  {
   "cell_type": "code",
   "execution_count": 74,
   "metadata": {
    "collapsed": false
   },
   "outputs": [
    {
     "ename": "NameError",
     "evalue": "name 'b' is not defined",
     "output_type": "error",
     "traceback": [
      "\u001b[0;31m---------------------------------------------------------------------------\u001b[0m",
      "\u001b[0;31mNameError\u001b[0m                                 Traceback (most recent call last)",
      "\u001b[0;32m<ipython-input-74-c8eebb2f096d>\u001b[0m in \u001b[0;36m<module>\u001b[0;34m()\u001b[0m\n\u001b[1;32m      1\u001b[0m \u001b[0ma\u001b[0m \u001b[1;33m=\u001b[0m \u001b[1;36m3\u001b[0m\u001b[1;33m\u001b[0m\u001b[0m\n\u001b[1;32m      2\u001b[0m \u001b[1;33m\u001b[0m\u001b[0m\n\u001b[0;32m----> 3\u001b[0;31m \u001b[1;32mif\u001b[0m \u001b[0ma\u001b[0m \u001b[1;33m==\u001b[0m \u001b[1;36m3\u001b[0m \u001b[1;32mand\u001b[0m \u001b[0mb\u001b[0m \u001b[1;33m:\u001b[0m\u001b[1;33m\u001b[0m\u001b[0m\n\u001b[0m\u001b[1;32m      4\u001b[0m     \u001b[0mprint\u001b[0m\u001b[1;33m(\u001b[0m\u001b[0ma\u001b[0m\u001b[1;33m)\u001b[0m\u001b[1;33m\u001b[0m\u001b[0m\n\u001b[1;32m      5\u001b[0m \u001b[0mprint\u001b[0m\u001b[1;33m(\u001b[0m\u001b[0ma\u001b[0m\u001b[1;33m)\u001b[0m\u001b[1;33m\u001b[0m\u001b[0m\n",
      "\u001b[0;31mNameError\u001b[0m: name 'b' is not defined"
     ]
    }
   ],
   "source": [
    "a = 3\n",
    "\n",
    "if a == 3 and b :\n",
    "    print(a)\n",
    "print(a)"
   ]
  },
  {
   "cell_type": "code",
   "execution_count": 5,
   "metadata": {
    "collapsed": false
   },
   "outputs": [
    {
     "name": "stdout",
     "output_type": "stream",
     "text": [
      "[]\n"
     ]
    }
   ],
   "source": [
    "def getInterSet(inList1, inList2) :\n",
    "    outlist =[]\n",
    "    while len(inList1) != 0 :\n",
    "        elem = inList1[0]\n",
    "        del inList1[0]\n",
    "        #만약 2에도 있으면 제거\n",
    "        if elem in inList2 :\n",
    "            inList2.remove(elem)\n",
    "            outlist.append(elem)\n",
    "    \n",
    "    return outlist\n",
    "\n",
    "a = ['a', 'b', 'a', 'd']\n",
    "b = ['c']\n",
    "\n",
    "print(getInterSet(a, b))"
   ]
  },
  {
   "cell_type": "code",
   "execution_count": 16,
   "metadata": {
    "collapsed": false
   },
   "outputs": [
    {
     "name": "stdout",
     "output_type": "stream",
     "text": [
      "[[0, 1, 2, 3], [0, 1, 2, 3], [0, 1, 2, 3]]\n",
      "[[0, 0, 0], [1, 1, 1], [2, 2, 2], [3, 3, 3]]\n",
      "[[0, 1, 2, 3], [0, 1, 2, 3], [0, 1, 2, 3]]\n"
     ]
    }
   ],
   "source": [
    "def zlist(H, W):\n",
    "    outList = []\n",
    "    for i in range(H) :\n",
    "        outList.append([j for j in range(W)])\n",
    "        \n",
    "    return outList\n",
    "\n",
    "def rotation(inList, times) :\n",
    "    tmpList = []\n",
    "    outList = inList.copy()\n",
    "    # 음수 정규화\n",
    "    times = (times + 4) % 4\n",
    "    \n",
    "    #횟수만큼 수행\n",
    "    for cnt in range(times) :\n",
    "        #초기화\n",
    "        tmpList = outList.copy()\n",
    "        outList = zlist(len(tmpList[0]), len(tmpList))\n",
    "        maxH_idx = len(tmpList) - 1\n",
    "        maxW_idx = len(tmpList[0]) - 1\n",
    "        \n",
    "        #회전\n",
    "        for i, line in enumerate(tmpList) :\n",
    "            for j, ch in enumerate(line) :\n",
    "                outList[j][maxH_idx - i] = ch\n",
    "                \n",
    "    return outList\n",
    "\n",
    "z = zlist(3, 4)\n",
    "print(z)\n",
    "li = rotation(z, 1)\n",
    "print(li)\n",
    "li2 = rotation(li, -1)\n",
    "print(li2)"
   ]
  },
  {
   "cell_type": "code",
   "execution_count": 14,
   "metadata": {
    "collapsed": false,
    "scrolled": true
   },
   "outputs": [
    {
     "name": "stdout",
     "output_type": "stream",
     "text": [
      "['C', 'C', 'B', 'D', 'E']\n",
      "['A', 'A', 'A', 'D', 'E']\n",
      "['A', 'A', 'A', 'B', 'F']\n",
      "['C', 'C', 'B', 'B', 'F']\n",
      "----------\n",
      "CCBD\n",
      "AAAD\n",
      "AAAB\n",
      "6\n",
      "['C', 'C', 'B', 'D', 'E']\n",
      "['0', '0', '0', 'D', 'E']\n",
      "['0', '0', '0', 'B', 'F']\n",
      "['C', 'C', 'B', 'B', 'F']\n"
     ]
    }
   ],
   "source": [
    "NONE_TOKEN = '0'\n",
    "\n",
    "#2차원 리스트 초기화 함수\n",
    "def zlist(H, W):\n",
    "    outList = []\n",
    "    for i in range(H) :\n",
    "        outList.append([0 for j in range(W)])\n",
    "        \n",
    "    return outList\n",
    "\n",
    "#깊은 복사 함수\n",
    "def copy_func(inList) :\n",
    "    outList = []\n",
    "    \n",
    "    for line in inList :\n",
    "        if isinstance(line, list) :\n",
    "            outList.append(copy_func(line))\n",
    "        else :\n",
    "            outList.append(line)\n",
    "\n",
    "    return outList\n",
    "        \n",
    "\n",
    "#라인을 다시 정립하는 함수\n",
    "def squCnt_and_Trance(inList) :\n",
    "    #초기화\n",
    "    cnt = 0\n",
    "    outList = copy_func(inList)\n",
    "    maxH= len(inList)\n",
    "    maxW = len(inList[0])\n",
    "    \n",
    "    for i in range(maxH - 1) :\n",
    "        for j in range(maxW - 1) :\n",
    "            elem = inList[i][j]\n",
    "            if elem.isalpha() :\n",
    "                if (inList[i + 1][j] == elem) and (inList[i][j + 1] == elem) and (inList[i + 1][j + 1] == elem) :\n",
    "                    if outList[i][j] != NONE_TOKEN :\n",
    "                        outList[i][j] = NONE_TOKEN \n",
    "                        cnt += 1\n",
    "                    if outList[i + 1][j] != NONE_TOKEN :\n",
    "                        outList[i + 1][j] = NONE_TOKEN\n",
    "                        cnt += 1\n",
    "                        \n",
    "                    if outList[i][j + 1] != NONE_TOKEN :\n",
    "                        outList[i][j + 1] = NONE_TOKEN\n",
    "                        cnt += 1\n",
    "                        \n",
    "                    if outList[i + 1][j + 1] != NONE_TOKEN :\n",
    "                        outList[i + 1][j + 1] = NONE_TOKEN\n",
    "                        cnt += 1\n",
    "        \n",
    "    return cnt, outList\n",
    "\n",
    "a = [\"CCBDE\",\"AAADE\",\"AAABF\",\"CCBBF\"]\n",
    "\n",
    "a = list(map(list, a))\n",
    "\n",
    "for tmp in a :\n",
    "    print(tmp)\n",
    "print(\"-\"*10)\n",
    "cnt, a = squCnt_and_Trance(a)\n",
    "print(cnt)\n",
    "for tmp in a :\n",
    "    print(tmp)\n"
   ]
  },
  {
   "cell_type": "code",
   "execution_count": 17,
   "metadata": {
    "collapsed": false
   },
   "outputs": [
    {
     "name": "stdout",
     "output_type": "stream",
     "text": [
      "('03', '04', '2.3')\n"
     ]
    }
   ],
   "source": [
    "zfillStr = tuple(map(lambda st : st.zfill(2), (\"3\", \"4\", \"2.3\")))\n",
    "print(zfillStr)"
   ]
  },
  {
   "cell_type": "code",
   "execution_count": null,
   "metadata": {
    "collapsed": true
   },
   "outputs": [],
   "source": [
    "int(shuffle_solution())"
   ]
  },
  {
   "cell_type": "code",
   "execution_count": 2,
   "metadata": {
    "collapsed": false
   },
   "outputs": [
    {
     "name": "stdout",
     "output_type": "stream",
     "text": [
      "[[1, 2]]\n"
     ]
    }
   ],
   "source": [
    "a = [[1, 2]]\n",
    "\n",
    "for i in a :\n",
    "    for j in i :\n",
    "        j = 2\n",
    "        \n",
    "print(a)"
   ]
  },
  {
   "cell_type": "code",
   "execution_count": null,
   "metadata": {
    "collapsed": true
   },
   "outputs": [],
   "source": [
    "import sys\n",
    "import codecs\n",
    "import random\n",
    "\n",
    "sys.stdin =codecs.getreader(\"utf-8\")(sys.stdin.detach())\n",
    "sys.stdout =codecs.getwriter(\"utf-8\")(sys.stdout.detach())\n",
    "FIXEDPOINT_NUM = 100\n",
    "RANDOM_RANGE = 5\n",
    "\n",
    "def makeDic(inKeyList, inElemList) :\n",
    "    '입력된 두 List를 Dic으로 변환'\n",
    "    outDic = {}\n",
    "    \n",
    "    #초기화\n",
    "    for eachKey in inKeyList :\n",
    "        outDic[eachKey] = []\n",
    "        \n",
    "    #키에 맞는 리스트에 elem 추가\n",
    "    for oneKey, oneElem in zip(inKeyList, inElemList) :\n",
    "        outDic[oneKey].append(oneElem)\n",
    "        \n",
    "    return outDic\n",
    "\n",
    "def find_idx(list1, list2, key, item) :\n",
    "    cnt = 0\n",
    "    for i, j in zip(list1, list2) :\n",
    "        if i == key and j == item :\n",
    "            return cnt\n",
    "        else :\n",
    "            cnt += 1\n",
    "\n",
    "#turm을 만드는 함수\n",
    "def maekTurm(inArtist, total) :\n",
    "    inLen = len(inArtist)\n",
    "    randNum = round(random.random() * (RANDOM_RANGE + RANDOM_RANGE) * FIXEDPOINT_NUM)\n",
    "    randNum = FIXEDPOINT_NUM * FIXEDPOINT_NUM + (randNum - RANDOM_RANGE * FIXEDPOINT_NUM)\n",
    "    turmNum = ((inLen * FIXEDPOINT_NUM) // total) * randNum\n",
    "    outList = [turmNum * i for i in range(inLen)]\n",
    "    \n",
    "    return outList\n",
    "\n",
    "def shuffle_solution(inPlayList, inArtistList) :\n",
    "    outList = []\n",
    "    artistAndSong_Dic = makeDic(inArtistList, inPlayList)\n",
    "    dicLen = len(artistAndSong_Dic)\n",
    "    listLen = len(inPlayList)\n",
    "    \n",
    "    #각 artist의 Turm구함\n",
    "    artistTurm_Dic = {}\n",
    "    for key, songlist in artistAndSong_Dic.items() :\n",
    "        artistTurm_Dic[key] = maekTurm(songlist, listLen)\n",
    "        random.shuffle(artistTurm_Dic[key])\n",
    "                                       \n",
    "    #시작 랜덤하게 만들기\n",
    "    totalKeyList = list(artistAndSong_Dic.keys())\n",
    "    i = 0\n",
    "    while len(totalKeyList) != 0 :\n",
    "        #랜덤 생성\n",
    "        ranIdx = random.randrange(len(totalKeyList))\n",
    "        ranKey = totalKeyList.pop(ranIdx)\n",
    "        print(ranIdx, ranKey)\n",
    "        print(artistTurm_Dic[ranKey])\n",
    "        artistTurm_Dic[ranKey] = list(map(lambda x : x + i, artistTurm_Dic[ranKey]))\n",
    "        i += 1\n",
    "   \n",
    "    #turm 값을 playlist와 매핑\n",
    "    totalTurmlist = []\n",
    "    for key, song in zip(inArtistList, inPlayList) :\n",
    "        idx = artistAndSong_Dic[key].index(song)\n",
    "        artistAndSong_Dic[key][idx] = None\n",
    "        totalTurmlist.append(artistTurm_Dic[key][idx])\n",
    "        \n",
    "    #모든 곡 리스트에 대해 접근\n",
    "    listCnt = listLen - 1\n",
    "    while listCnt + 1 :\n",
    "        idx = totalTurmlist.index(min(totalTurmlist))\n",
    "        \n",
    "        outList.append(inPlayList.pop(idx))\n",
    "        del totalTurmlist[idx]\n",
    "        listCnt -= 1\n",
    "   \n",
    "    return outList\n",
    "\n",
    "#입력\n",
    "TestCase_T = int(input())\n",
    "\n",
    "playlist_List = []\n",
    "artist_List = []\n",
    "\n",
    "for i in range(TestCase_T) :\n",
    "    playlist_List.append(input().split('\\t'))\n",
    "    artist_List.append(input().split('\\t'))\n",
    "\n",
    "for i in range(TestCase_T) :\n",
    "    outStr = '\\t'.join(shuffle_solution(playlist_List[i], artist_List[i]))\n",
    "    print(outStr)"
   ]
  }
 ],
 "metadata": {
  "anaconda-cloud": {},
  "kernelspec": {
   "display_name": "Python [default]",
   "language": "python",
   "name": "python3"
  },
  "language_info": {
   "codemirror_mode": {
    "name": "ipython",
    "version": 3
   },
   "file_extension": ".py",
   "mimetype": "text/x-python",
   "name": "python",
   "nbconvert_exporter": "python",
   "pygments_lexer": "ipython3",
   "version": "3.5.2"
  }
 },
 "nbformat": 4,
 "nbformat_minor": 1
}
